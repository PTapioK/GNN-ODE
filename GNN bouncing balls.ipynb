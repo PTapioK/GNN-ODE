{
 "cells": [
  {
   "cell_type": "code",
   "execution_count": 1,
   "metadata": {},
   "outputs": [],
   "source": [
    "import time\n",
    "import torch\n",
    "import numpy as np\n",
    "import matplotlib.pyplot as plt\n",
    "\n",
    "import torch.nn as nn\n",
    "import torch.nn.functional as F\n",
    "import torch.optim as optim\n",
    "from torch.utils.data import TensorDataset, DataLoader\n",
    "from IPython.display import clear_output\n",
    "import create_billards_data as bd\n",
    "from torch.utils.data import Dataset, DataLoader\n",
    "from torch.autograd import Variable"
   ]
  },
  {
   "cell_type": "code",
   "execution_count": 2,
   "metadata": {},
   "outputs": [],
   "source": [
    "train=False"
   ]
  },
  {
   "cell_type": "code",
   "execution_count": 3,
   "metadata": {},
   "outputs": [],
   "source": [
    "def simulate_bb(timesteps=1000, balls=5, masses=None, radiuses=None, mass_wall=-1):\n",
    "    if masses is None:\n",
    "        masses = np.ones((balls, 1))\n",
    "    if radiuses is None:\n",
    "        radiuses = np.ones((balls, 1))*0.5\n",
    "\n",
    "    # Define constant shape = 0 = circle\n",
    "    shapes = np.zeros((balls, 1))\n",
    "\n",
    "    x,y = bd.bounce_n(T=timesteps,n=balls,m=masses, r=radiuses)\n",
    "    simulation = np.concatenate((x, y), axis=2)\n",
    "    \n",
    "    masses = np.tile([masses], (timesteps, 1, 1))\n",
    "    radiuses = np.tile([radiuses], (timesteps, 1, 1))\n",
    "    shapes = np.tile([shapes], (timesteps, 1, 1))\n",
    "    \n",
    "    temp_data = np.concatenate((masses, simulation), axis=2)\n",
    "    temp_data = np.concatenate((radiuses, temp_data), axis=2)\n",
    "    temp_data = np.concatenate((shapes, temp_data), axis=2)\n",
    "    data = np.zeros((timesteps, balls+4, 7))\n",
    "    for i in range(timesteps):\n",
    "        walls = [[1, bd.SIZE, mass_wall, -bd.SIZE/2.0         , bd.SIZE/2.0          , 0, 0], \n",
    "                 [1, bd.SIZE, mass_wall, bd.SIZE/2.0          , -bd.SIZE/2.0         , 0, 0], \n",
    "                 [1, bd.SIZE, mass_wall, bd.SIZE + bd.SIZE/2.0, bd.SIZE/2.0          , 0, 0], \n",
    "                 [1, bd.SIZE, mass_wall, bd.SIZE/2.0          , bd.SIZE + bd.SIZE/2.0, 0, 0]]\n",
    "        data[i] = np.concatenate((temp_data[i], walls), axis=0)\n",
    "    return data"
   ]
  },
  {
   "cell_type": "code",
   "execution_count": 4,
   "metadata": {},
   "outputs": [],
   "source": [
    "sizes=np.random.rand(5).reshape(5,1) + 0.2\n",
    "testsim = simulate_bb(timesteps=100, balls=5, masses=sizes, radiuses=sizes)"
   ]
  },
  {
   "cell_type": "code",
   "execution_count": 5,
   "metadata": {},
   "outputs": [],
   "source": [
    "#testsim[0]"
   ]
  },
  {
   "cell_type": "code",
   "execution_count": 6,
   "metadata": {},
   "outputs": [
    {
     "data": {
      "image/png": "[encoded data removed]",
      "text/plain": [
       "<Figure size 432x288 with 1 Axes>"
      ]
     },
     "metadata": {
      "needs_background": "light"
     },
     "output_type": "display_data"
    }
   ],
   "source": [
    "plt.ion()\n",
    "for i in range(0,10):\n",
    "    clear_output(True)\n",
    "    plt.ylim(0,10)\n",
    "    plt.xlim(0,10)\n",
    "    plt.gca().set_aspect('equal', adjustable='box')\n",
    "    for j in range(0,5):\n",
    "        plt.scatter(x=testsim[i][j][3],y=testsim[i][j][4],s=sizes[j]**2*1900)\n",
    "    plt.show()\n",
    "plt.ioff()"
   ]
  },
  {
   "cell_type": "code",
   "execution_count": 7,
   "metadata": {},
   "outputs": [],
   "source": [
    "class InteractionDataset(Dataset):\n",
    "    \"\"\"Interaction Networks bouncing balls dataset\"\"\"\n",
    "    def __init__(self, n_timesteps, n_simulations, n_balls, n_relations):\n",
    "        n_walls                 = 4\n",
    "        n_features              = 7\n",
    "        n_objects               = n_balls + n_walls\n",
    "        \n",
    "        self.n_timesteps        = n_timesteps\n",
    "        self.n_simulations      = n_simulations\n",
    "\n",
    "        # Generate masses and sizes for balls between interval [0.2, 1.2)\n",
    "        self.masses             = np.random.rand(n_simulations*n_balls).reshape(n_simulations,n_balls,1) + 0.2\n",
    "        self.radiuses           = np.random.rand(n_simulations*n_balls).reshape(n_simulations,n_balls,1) + 0.2\n",
    "        \n",
    "        self.simulations        = np.zeros((n_simulations, n_timesteps, n_objects, n_features))\n",
    "        \n",
    "        for s in range(n_simulations):\n",
    "            self.simulations[s] = simulate_bb(timesteps=n_timesteps, balls=n_balls, masses=self.masses[s], radiuses=self.radiuses[s])\n",
    "                    \n",
    "        self.simulations        = Variable(torch.FloatTensor(self.simulations.reshape((n_simulations * n_timesteps, n_objects, n_features))))\n",
    "        \n",
    "    def __len__(self):\n",
    "        return len(self.simulations) - self.n_simulations\n",
    "    \n",
    "    def __getitem__(self, idx):\n",
    "        if idx % (self.n_timesteps - 1) == 0 and idx > 0:\n",
    "            current_idx = idx + 1\n",
    "        else:\n",
    "            current_idx = idx\n",
    "        next_idx = current_idx + 1\n",
    "        \n",
    "        return self.simulations[current_idx], self.simulations[next_idx]"
   ]
  },
  {
   "cell_type": "code",
   "execution_count": 8,
   "metadata": {},
   "outputs": [],
   "source": [
    "# Test InteractionDataset\n",
    "n_balls = 3\n",
    "n_walls = 4\n",
    "n_objects = n_balls + n_walls\n",
    "n_relations = n_objects*(n_objects-1)\n",
    "n_timesteps = 10\n",
    "n_simulations = 1\n",
    "relation_dim = 1\n",
    "n_features=7\n",
    "test_samples = InteractionDataset(n_timesteps, n_simulations, n_balls, n_relations)"
   ]
  },
  {
   "cell_type": "code",
   "execution_count": 9,
   "metadata": {},
   "outputs": [
    {
     "data": {
      "image/png": "[encoded data removed]",
      "text/plain": [
       "<Figure size 1008x1008 with 1 Axes>"
      ]
     },
     "metadata": {
      "needs_background": "light"
     },
     "output_type": "display_data"
    }
   ],
   "source": [
    "plt.ion()\n",
    "for i in range(0,n_timesteps-1):\n",
    "    clear_output(True)\n",
    "    fig, ax = plt.subplots(3, 1, figsize = (14, 14))\n",
    "    for j in range(0,n_simulations):\n",
    "        state, next_state = test_samples[j*n_timesteps+i]\n",
    "        ax = plt.subplot(1, 3, j + 1)\n",
    "        ax.set_ylim(0,10)\n",
    "        ax.set_xlim(0,10)\n",
    "        plt.gca().set_aspect('equal', adjustable='box')\n",
    "        for b in range(0,n_balls):\n",
    "            ax.scatter(x=state[b][3],y=state[b][4],s=test_samples.radiuses[j][b]**2*2000)\n",
    "    plt.show()\n",
    "plt.ioff()"
   ]
  },
  {
   "cell_type": "code",
   "execution_count": 10,
   "metadata": {},
   "outputs": [],
   "source": [
    "device = torch.device('cuda:0')\n",
    "#device = torch.device('cpu')"
   ]
  },
  {
   "cell_type": "code",
   "execution_count": 11,
   "metadata": {},
   "outputs": [],
   "source": [
    "# Training settings\n",
    "n_balls = 3\n",
    "n_walls = 4\n",
    "n_objects = n_balls + n_walls\n",
    "n_relations = n_objects*(n_objects-1)\n",
    "n_timesteps_train = 1024*8\n",
    "n_simulations = 16\n",
    "n_features = 7\n",
    "relation_dim = 1\n",
    "effect_dim = 100\n",
    "batch_size_train = 2048\n",
    "\n",
    "if train:\n",
    "    trainset = InteractionDataset(n_timesteps_train, n_simulations, n_balls, n_relations)\n",
    "    trainloader = DataLoader(trainset, batch_size=batch_size_train, shuffle=True, num_workers=8)"
   ]
  },
  {
   "cell_type": "code",
   "execution_count": 12,
   "metadata": {},
   "outputs": [],
   "source": [
    "class RelationalModel(nn.Module):\n",
    "    def __init__(self, input_size, output_size, hidden_size):\n",
    "        super(RelationalModel, self).__init__()\n",
    "        \n",
    "        self.output_size = output_size\n",
    "        \n",
    "        self.layers = nn.Sequential(\n",
    "            nn.Linear(input_size, hidden_size),\n",
    "            nn.ReLU(),\n",
    "            nn.Linear(hidden_size, hidden_size),\n",
    "            nn.ReLU(),\n",
    "            nn.Linear(hidden_size, hidden_size),\n",
    "            nn.ReLU(),\n",
    "            nn.Linear(hidden_size, output_size),\n",
    "            nn.ReLU()\n",
    "        )\n",
    "    \n",
    "    def forward(self, x):\n",
    "        '''\n",
    "        Args:\n",
    "            x: [batch_size, n_relations, input_size]\n",
    "        Returns:\n",
    "            [batch_size, n_relations, output_size]\n",
    "        '''\n",
    "        #batch_size, n_relations, input_size = x.size()\n",
    "        #x = x.view(-1, input_size)\n",
    "        x = self.layers(x)\n",
    "        #x = x.view(batch_size, n_relations, self.output_size)\n",
    "        return x"
   ]
  },
  {
   "cell_type": "code",
   "execution_count": 13,
   "metadata": {},
   "outputs": [],
   "source": [
    "class ObjectModel(nn.Module):\n",
    "    def __init__(self, input_size, hidden_size, output_size):\n",
    "        super(ObjectModel, self).__init__()\n",
    "        \n",
    "        self.layers = nn.Sequential(\n",
    "            nn.Linear(input_size, hidden_size),\n",
    "            nn.ReLU(),\n",
    "            nn.Linear(hidden_size, output_size), #predicted state\n",
    "        )\n",
    "        \n",
    "    def forward(self, x):\n",
    "        '''\n",
    "        Args:\n",
    "            x: [batch_size, n_objects, input_size]\n",
    "        Returns:\n",
    "            [batch_size, n_objects, output_size]\n",
    "        '''\n",
    "        #input_size = x.size(2)\n",
    "        #x = x.view(-1, input_size)\n",
    "        return self.layers(x)"
   ]
  },
  {
   "cell_type": "code",
   "execution_count": 14,
   "metadata": {},
   "outputs": [],
   "source": [
    "class InteractionNetwork(nn.Module):\n",
    "    def __init__(self, n_objects, n_balls, object_dim, n_relations, relation_dim, effect_dim, batch_size):\n",
    "        super(InteractionNetwork, self).__init__()\n",
    "        \n",
    "        self.relational_model   = RelationalModel(2*object_dim + relation_dim, effect_dim, 150).to(device)\n",
    "        self.object_model       = ObjectModel(object_dim + effect_dim, 100, 4).to(device)\n",
    "\n",
    "        self.receiver_relations = Variable(torch.FloatTensor([])).to(device)\n",
    "        self.sender_relations   = Variable(torch.FloatTensor([])).to(device)\n",
    "        self.relation_info      = Variable(torch.FloatTensor([])).to(device)\n",
    "        \n",
    "        self.set_relations(n_objects, n_balls, batch_size, device)\n",
    "    \n",
    "    def set_relations(self, n_objects, n_balls, batch_size, device):\n",
    "        receiver_relations = np.zeros((batch_size, n_objects, n_relations), dtype=float)\n",
    "        sender_relations   = np.zeros((batch_size, n_objects, n_relations), dtype=float)\n",
    "        relation_info      = np.ones((batch_size, n_relations, relation_dim), dtype=float)\n",
    "        \n",
    "        # Generate onehot matrices for relations\n",
    "        for s in range(batch_size):\n",
    "            cnt = 0\n",
    "            for i in range(n_objects):\n",
    "                for j in range(n_objects):\n",
    "                    if(i != j):\n",
    "                        # Do not add relation from ball to wall or from wall to wall\n",
    "                        if not ((j < n_balls and i >= n_balls) or (i >= n_balls and j >= n_balls)):\n",
    "                            receiver_relations[s, i, cnt] = 1.0\n",
    "                            sender_relations[s, j, cnt] = 1.0\n",
    "                        cnt += 1\n",
    "    \n",
    "        self.receiver_relations = Variable(torch.FloatTensor(receiver_relations)).to(device)\n",
    "        self.sender_relations   = Variable(torch.FloatTensor(sender_relations)).to(device)\n",
    "        self.relation_info      = Variable(torch.FloatTensor(relation_info)).to(device)\n",
    "    \n",
    "    def forward(self, x):\n",
    "        constants   = x[:,:,0:3]\n",
    "        batch_size  = x.shape[0]\n",
    "\n",
    "        senders     = self.sender_relations[0:batch_size,:,:].permute(0, 2, 1).bmm(x)\n",
    "        receivers   = self.receiver_relations[0:batch_size,:,:].permute(0, 2, 1).bmm(x)\n",
    "        \n",
    "        m = torch.cat([senders, receivers, self.relation_info[0:batch_size,:,:]], 2)\n",
    "        effects = self.relational_model(m)\n",
    "        effect_receivers = self.receiver_relations[0:batch_size,:,:].bmm(effects)\n",
    "        a = torch.cat([x, effect_receivers], 2)\n",
    "\n",
    "        out = self.object_model(a)\n",
    "        return torch.cat([constants, out], 2)"
   ]
  },
  {
   "cell_type": "code",
   "execution_count": 15,
   "metadata": {},
   "outputs": [
    {
     "data": {
      "text/plain": [
       "InteractionNetwork(\n",
       "  (relational_model): RelationalModel(\n",
       "    (layers): Sequential(\n",
       "      (0): Linear(in_features=15, out_features=150, bias=True)\n",
       "      (1): ReLU()\n",
       "      (2): Linear(in_features=150, out_features=150, bias=True)\n",
       "      (3): ReLU()\n",
       "      (4): Linear(in_features=150, out_features=150, bias=True)\n",
       "      (5): ReLU()\n",
       "      (6): Linear(in_features=150, out_features=100, bias=True)\n",
       "      (7): ReLU()\n",
       "    )\n",
       "  )\n",
       "  (object_model): ObjectModel(\n",
       "    (layers): Sequential(\n",
       "      (0): Linear(in_features=107, out_features=100, bias=True)\n",
       "      (1): ReLU()\n",
       "      (2): Linear(in_features=100, out_features=4, bias=True)\n",
       "    )\n",
       "  )\n",
       ")"
      ]
     },
     "execution_count": 15,
     "metadata": {},
     "output_type": "execute_result"
    }
   ],
   "source": [
    "interaction_network = InteractionNetwork(n_objects, n_balls, n_features, n_relations, relation_dim, effect_dim, batch_size_train)\n",
    "interaction_network.to(device)"
   ]
  },
  {
   "cell_type": "code",
   "execution_count": 16,
   "metadata": {},
   "outputs": [],
   "source": [
    "if train:\n",
    "    optimizer = optim.Adam(interaction_network.parameters(), lr=0.001)\n",
    "    criterion = nn.MSELoss()\n",
    "    test_every = 8\n",
    "    train_losses = []\n",
    "    plt.ion()\n",
    "    for epoch in range(1500):\n",
    "        running_loss = 0.0\n",
    "        start = time.time()\n",
    "        for i, (current_state, next_state) in enumerate(trainloader):\n",
    "            current_state = current_state.to(device)\n",
    "            next_state = next_state.to(device)\n",
    "\n",
    "            predicted_state = interaction_network(current_state)\n",
    "\n",
    "            train_loss = criterion(predicted_state.view(-1,n_features)[:,3:n_features], next_state.view(-1,n_features)[:,3:n_features])\n",
    "            running_loss += train_loss.item()\n",
    "            if (i % test_every) == (test_every-1):\n",
    "                avg_loss = running_loss/test_every\n",
    "                #print('Iteration [%d] loss: %.3f' % (i+1, np.sqrt(np.mean(avg_loss))))\n",
    "                running_loss = 0.0\n",
    "                if epoch > 0:\n",
    "                    train_losses.append(avg_loss)\n",
    "\n",
    "            optimizer.zero_grad()\n",
    "            train_loss.backward()\n",
    "            optimizer.step()\n",
    "\n",
    "\n",
    "        if epoch > 0:\n",
    "            epoch_time = time.time() - start\n",
    "            clear_output(True)\n",
    "            plt.figure(figsize=(20,5))\n",
    "            plt.title('[%d] Epoch loss: %.5f. Iterations: %d. Epoch time: %.2fs' % (epoch+1, np.mean(train_losses[-i:]), i+1, epoch_time))\n",
    "            plt.plot(train_losses)\n",
    "            plt.savefig(\"gnn_bb-final-loss.png\")\n",
    "            torch.save(interaction_network.state_dict(), \"./gnn_bb-final.mdl\")\n",
    "            plt.show()\n",
    "    plt.ioff()"
   ]
  },
  {
   "cell_type": "code",
   "execution_count": 17,
   "metadata": {},
   "outputs": [],
   "source": [
    "if train:\n",
    "    print(\"Train loss: \", np.mean(train_losses))\n",
    "    plt.figure(figsize=(20,5))\n",
    "    plt.plot(train_losses[-900:])\n",
    "    plt.show()"
   ]
  },
  {
   "cell_type": "code",
   "execution_count": 18,
   "metadata": {},
   "outputs": [],
   "source": [
    "if train:\n",
    "    torch.save(interaction_network.state_dict(), \"./gnn_bb-final.mdl\")\n",
    "if not train:\n",
    "    interaction_network.load_state_dict(torch.load(\"./gnn_bb-final.mdl\"))"
   ]
  },
  {
   "cell_type": "code",
   "execution_count": 19,
   "metadata": {},
   "outputs": [],
   "source": [
    "device = torch.device('cpu')\n",
    "net = interaction_network.to(device)"
   ]
  },
  {
   "cell_type": "code",
   "execution_count": 20,
   "metadata": {},
   "outputs": [
    {
     "data": {
      "image/png": "[encoded data removed]",
      "text/plain": [
       "<Figure size 648x648 with 2 Axes>"
      ]
     },
     "metadata": {
      "needs_background": "light"
     },
     "output_type": "display_data"
    }
   ],
   "source": [
    "n_balls = 3\n",
    "n_objects = n_balls + n_walls\n",
    "n_relations = n_objects*(n_objects-1)\n",
    "n_timesteps_test = 100\n",
    "n_simulations = 1\n",
    "n_features = 7\n",
    "relation_dim = 1\n",
    "effect_dim = 100\n",
    "\n",
    "net.set_relations(n_objects, n_balls, 1, device)\n",
    "testset =  InteractionDataset(n_timesteps_test, n_simulations, n_balls, n_relations)\n",
    "testloader = DataLoader(testset, batch_size=1)\n",
    "with torch.no_grad():   \n",
    "    for i, (current_state, next_state) in enumerate(testloader):\n",
    "        if i > 0:\n",
    "            current_state = predicted\n",
    "        \n",
    "        predicted = interaction_network(current_state.to(device))\n",
    "        output = predicted.cpu().detach().numpy().reshape(1,n_objects,7)[:,:,3:n_features]\n",
    "        \n",
    "        clear_output(True)\n",
    "        fig, axs = plt.subplots(1, 2, figsize = (9, 9))\n",
    "        for b in range(0,n_balls):\n",
    "            axs[0].set_title('True')\n",
    "            axs[0].set_ylim(0,10)\n",
    "            axs[0].set_xlim(0,10)\n",
    "            axs[0].set_aspect('equal', 'box')\n",
    "            axs[0].scatter(x=next_state[0][b][3],y=next_state[0][b][4],s=testset.radiuses[0][b][0]**2*2000)\n",
    "            axs[1].set_title('Model')\n",
    "            axs[1].set_ylim(0,10)\n",
    "            axs[1].set_xlim(0,10)\n",
    "            axs[1].set_aspect('equal', 'box')\n",
    "            axs[1].scatter(x=output[0][b][0],y=output[0][b][1],s=testset.radiuses[0][b][0]**2*2000)\n",
    "        plt.show()"
   ]
  },
  {
   "cell_type": "code",
   "execution_count": null,
   "metadata": {},
   "outputs": [],
   "source": []
  }
 ],
 "metadata": {
  "kernelspec": {
   "display_name": "Python 3",
   "language": "python",
   "name": "python3"
  },
  "language_info": {
   "codemirror_mode": {
    "name": "ipython",
    "version": 3
   },
   "file_extension": ".py",
   "mimetype": "text/x-python",
   "name": "python",
   "nbconvert_exporter": "python",
   "pygments_lexer": "ipython3",
   "version": "3.7.4"
  }
 },
 "nbformat": 4,
 "nbformat_minor": 2
}
